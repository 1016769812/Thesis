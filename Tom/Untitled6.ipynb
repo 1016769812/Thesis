{
 "cells": [
  {
   "cell_type": "code",
   "execution_count": null,
   "id": "bb04de47",
   "metadata": {},
   "outputs": [],
   "source": [
    "import re\n",
    "import linecache\n",
    " \n",
    "\n"
   ]
  },
  {
   "cell_type": "code",
   "execution_count": null,
   "id": "4ada4195",
   "metadata": {},
   "outputs": [],
   "source": [
    "fp = open(r\"C:\\Users\\Li\\Desktop\\美国（txt）\\美国关键词分割\\all.txt\", 'r',encoding='utf-8')\n",
    "print(fp)"
   ]
  },
  {
   "cell_type": "code",
   "execution_count": null,
   "id": "26114a59",
   "metadata": {},
   "outputs": [],
   "source": []
  }
 ],
 "metadata": {
  "kernelspec": {
   "display_name": "Python 3",
   "language": "python",
   "name": "python3"
  }
 },
 "nbformat": 4,
 "nbformat_minor": 5
}
